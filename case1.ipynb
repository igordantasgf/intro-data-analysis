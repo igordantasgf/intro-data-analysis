{
 "cells": [
  {
   "cell_type": "markdown",
   "id": "500539c8-fc18-47b4-9b28-745ba936fcb0",
   "metadata": {
    "slideshow": {
     "slide_type": "slide"
    },
    "tags": []
   },
   "source": [
    "## Case 1 ##"
   ]
  },
  {
   "cell_type": "markdown",
   "id": "b0ed278b-95f6-4d51-900e-3c18cab5b47c",
   "metadata": {},
   "source": [
    "!! Primeiro case para o processo trainee da liga financeira QFC UFBA."
   ]
  },
  {
   "cell_type": "raw",
   "id": "6afee252-fe1a-478d-b87a-12b4c012103a",
   "metadata": {},
   "source": [
    "João possui 10.000 R$ e gostaria de, em 2023, fazer uma reforma em sua casa. Ele percebeu que os investimentos de renda fixa são seguros e gostaria de aplicar seu dinheiro neles para aumentar seu capital. Ele encontrou as seguintes opções:"
   ]
  },
  {
   "cell_type": "markdown",
   "id": "98ede1aa-31b9-4533-be8f-d272e0d36112",
   "metadata": {},
   "source": [
    "------------------------------------------------------------------------------------------------------------------------------------------------------------------------------------------"
   ]
  },
  {
   "cell_type": "raw",
   "id": "8382eaf7-6d8e-4cd8-9af0-f16040b25556",
   "metadata": {},
   "source": [
    "cdb prefixado anual, vencimento para 2023\n",
    "    - bb:        8,70%   IR:15%\n",
    "    - santander: 7,62%   *\n",
    "    - safra:     6,90%   *\n",
    "    - itaú:      7,70%   *"
   ]
  },
  {
   "cell_type": "raw",
   "id": "39320650-0c9e-4af1-a4a8-3fba7c067d2e",
   "metadata": {},
   "source": [
    "tesouro prefixado 2023                     -> valor unitário: 3000, i=14,82%, cupom semestral: 0        IR:15%"
   ]
  },
  {
   "cell_type": "raw",
   "id": "5c8d8b37-2aa2-4ab3-b2dc-c6e1dc88b91b",
   "metadata": {},
   "source": [
    "tesouro prefixado 2023                     -> valor unitário: 1000, i=17,75%, cupom semestral: 0        IR:15%"
   ]
  },
  {
   "cell_type": "raw",
   "id": "e6b309c3-5e14-4999-af92-09bbb6b15e5a",
   "metadata": {},
   "source": [
    "tesouro prefixado 2023 com cupom semestral -> valor unitário: 2500, i=15,25%, cupom semestral: 2824.0625 IR:15%"
   ]
  },
  {
   "cell_type": "markdown",
   "id": "dbb8d397-dcad-483d-b6f7-65fa6b92df0c",
   "metadata": {},
   "source": [
    "------------------------------------------------------------------------------------------------------------------------------------------------------------------------------------------"
   ]
  },
  {
   "cell_type": "raw",
   "id": "8aecb840-c110-4680-b544-c27058201a12",
   "metadata": {},
   "source": [
    "João terá que decidir qual aplicação lhe trará maior rentabilidade. Para isso, ele procurou a ajuda dos consultores Igor e Railan que obtiveram os seguintes resultados:"
   ]
  },
  {
   "cell_type": "markdown",
   "id": "d4d72a84-5cfd-44de-8469-1aaa7dbe0a2d",
   "metadata": {
    "slideshow": {
     "slide_type": "slide"
    },
    "tags": []
   },
   "source": [
    "* Criação de listas e DataFrames"
   ]
  },
  {
   "cell_type": "code",
   "execution_count": 1,
   "id": "05a403af-e857-48af-b54b-459cd3623fb0",
   "metadata": {},
   "outputs": [],
   "source": [
    "import pandas as pd\n",
    "import seaborn as sns\n",
    "import matplotlib.pyplot as plt"
   ]
  },
  {
   "cell_type": "code",
   "execution_count": 2,
   "id": "41125c12-0b68-433c-914f-ea55ba2685e3",
   "metadata": {},
   "outputs": [],
   "source": [
    "tesouros = ['prefixado_2023_1','prefixado_2023_2','prefixado_2023_cupom']\n",
    "valores = [3000,1000,2500]\n",
    "taxas = [14.82,17.75,15.25]\n",
    "cupom = [0, 0, 2824.0625]"
   ]
  },
  {
   "cell_type": "code",
   "execution_count": 3,
   "id": "9b5f39ab-1d22-4089-a32c-ff8935b9834b",
   "metadata": {},
   "outputs": [],
   "source": [
    "lista = pd.DataFrame(list(zip(valores,taxas,cupom)), index=[tesouros], columns=['valores','taxas','cupom'] )"
   ]
  },
  {
   "cell_type": "code",
   "execution_count": 4,
   "id": "555db5de-779d-44f8-be91-1076885465af",
   "metadata": {},
   "outputs": [
    {
     "data": {
      "text/html": [
       "<div>\n",
       "<style scoped>\n",
       "    .dataframe tbody tr th:only-of-type {\n",
       "        vertical-align: middle;\n",
       "    }\n",
       "\n",
       "    .dataframe tbody tr th {\n",
       "        vertical-align: top;\n",
       "    }\n",
       "\n",
       "    .dataframe thead th {\n",
       "        text-align: right;\n",
       "    }\n",
       "</style>\n",
       "<table border=\"1\" class=\"dataframe\">\n",
       "  <thead>\n",
       "    <tr style=\"text-align: right;\">\n",
       "      <th></th>\n",
       "      <th>valores</th>\n",
       "      <th>taxas</th>\n",
       "      <th>cupom</th>\n",
       "    </tr>\n",
       "  </thead>\n",
       "  <tbody>\n",
       "    <tr>\n",
       "      <th>prefixado_2023_1</th>\n",
       "      <td>3000</td>\n",
       "      <td>14.82</td>\n",
       "      <td>0.0000</td>\n",
       "    </tr>\n",
       "    <tr>\n",
       "      <th>prefixado_2023_2</th>\n",
       "      <td>1000</td>\n",
       "      <td>17.75</td>\n",
       "      <td>0.0000</td>\n",
       "    </tr>\n",
       "    <tr>\n",
       "      <th>prefixado_2023_cupom</th>\n",
       "      <td>2500</td>\n",
       "      <td>15.25</td>\n",
       "      <td>2824.0625</td>\n",
       "    </tr>\n",
       "  </tbody>\n",
       "</table>\n",
       "</div>"
      ],
      "text/plain": [
       "                      valores  taxas      cupom\n",
       "prefixado_2023_1         3000  14.82     0.0000\n",
       "prefixado_2023_2         1000  17.75     0.0000\n",
       "prefixado_2023_cupom     2500  15.25  2824.0625"
      ]
     },
     "execution_count": 4,
     "metadata": {},
     "output_type": "execute_result"
    }
   ],
   "source": [
    "lista"
   ]
  },
  {
   "cell_type": "code",
   "execution_count": 5,
   "id": "da020802-40bf-44a8-b80b-abd009f1d1b9",
   "metadata": {},
   "outputs": [],
   "source": [
    "cdb = {'bb':8.70,\n",
    "       'santander':7.62,\n",
    "       'safra':6.9,\n",
    "       'itau':7.7}"
   ]
  },
  {
   "cell_type": "markdown",
   "id": "c53687df-aff4-4181-b64f-1f7e0ea5db44",
   "metadata": {},
   "source": [
    "---------------------------------------------"
   ]
  },
  {
   "cell_type": "markdown",
   "id": "0ccc959a-9d5d-477f-9d7c-d1a3afb64330",
   "metadata": {
    "slideshow": {
     "slide_type": "slide"
    },
    "tags": []
   },
   "source": [
    "* Aplicações "
   ]
  },
  {
   "cell_type": "markdown",
   "id": "0d43dbcb-d314-48c3-a8b0-ecddbe05e8ca",
   "metadata": {},
   "source": [
    "------------------"
   ]
  },
  {
   "cell_type": "markdown",
   "id": "f36d757a-c294-4455-8767-20d79762fc33",
   "metadata": {
    "tags": []
   },
   "source": [
    "CDB :"
   ]
  },
  {
   "cell_type": "code",
   "execution_count": 6,
   "id": "38d00b8f-c33c-441a-8d9a-ba7f3df83783",
   "metadata": {},
   "outputs": [],
   "source": [
    "capital=10000 # R$\n",
    "ir=15 # %\n",
    "investimentos=[]\n",
    "montantes_cdb=[]\n",
    "retorno_semestral=[]"
   ]
  },
  {
   "cell_type": "code",
   "execution_count": 7,
   "id": "afb33ca6-589d-4e40-9cb4-5f9eb2939760",
   "metadata": {
    "tags": []
   },
   "outputs": [],
   "source": [
    "for a in cdb.keys():\n",
    "    zero=0\n",
    "    investimentos.append(a)\n",
    "    retorno_semestral.append(zero)\n",
    "for b in cdb.values():\n",
    "    inc=capital                              # inc = 10000\n",
    "    for c in range(2):                       # repetição por 2 anos\n",
    "        x = inc * (1+(b/100))                # multiplicação do capital pela taxa^anos = montante = x                 \n",
    "        inc = x                              # novo capital é inc\n",
    "        if(c==1):                            # põe na lista apenas após o 2° ano de aplicação\n",
    "            x = capital + (x-capital)*(1-(ir/100))     # subtração do lucro pelo imposto de renda\n",
    "            montantes_cdb.append(round(x,4)) \n",
    "        "
   ]
  },
  {
   "cell_type": "code",
   "execution_count": 8,
   "id": "7523de0a-d7f2-414c-b2d5-7fb3c8b37b8a",
   "metadata": {
    "tags": []
   },
   "outputs": [
    {
     "data": {
      "text/plain": [
       "[11543.3365, 11344.7547, 11213.4685, 11359.3965]"
      ]
     },
     "execution_count": 8,
     "metadata": {},
     "output_type": "execute_result"
    }
   ],
   "source": [
    "montantes_cdb"
   ]
  },
  {
   "cell_type": "markdown",
   "id": "11edd4cb-01be-4787-b31e-b6085c55c45d",
   "metadata": {},
   "source": [
    "***********"
   ]
  },
  {
   "cell_type": "markdown",
   "id": "12ac030b-1540-40b9-9f30-7ed142060457",
   "metadata": {
    "slideshow": {
     "slide_type": "slide"
    },
    "tags": []
   },
   "source": [
    "Tesouro prefixado:"
   ]
  },
  {
   "cell_type": "code",
   "execution_count": 9,
   "id": "079cabdb-67da-4f07-8406-bfecb179af3f",
   "metadata": {},
   "outputs": [],
   "source": [
    "montantes_pre=[]\n",
    "for xis in range(len(tesouros)):\n",
    "    investimentos.append(tesouros[xis])"
   ]
  },
  {
   "cell_type": "code",
   "execution_count": 10,
   "id": "84eb15a5-c9a4-4c7b-87d6-6b367cd14931",
   "metadata": {
    "tags": []
   },
   "outputs": [],
   "source": [
    "for a in range(len(lista)):\n",
    "    num = int(capital/lista.iloc[a][0])                        # num = quantidade de ações que João pode comprar\n",
    "    c= num * lista.iloc[a][0] * (1 + (lista.iloc[a][1]/100))   # multiplicação de num * valor unitário * taxa\n",
    "    \n",
    "    resto=capital % (num*lista.iloc[a][0])\n",
    "                                                      # soma do montante com o resto que não foi investido\n",
    "    c = num * lista.iloc[a][0] + ((c-(num * lista.iloc[a][0]))*(1-(ir/100)))                  # c = montante - lucro*1-ir (subtração do IR)\n",
    "    c=c+resto                           \n",
    "    montantes_pre.append(c)\n",
    "    if(lista.iloc[a][2]==0):                                   # se houver cupom semestral, monstrar recebimento semestral \n",
    "        retorno_semestral.append(0)\n",
    "    else:\n",
    "        retorno_semestral.append(round((c/4),3))"
   ]
  },
  {
   "cell_type": "markdown",
   "id": "bfbe7e9a-9415-47c5-b264-ffc35c18912d",
   "metadata": {},
   "source": [
    "-----------"
   ]
  },
  {
   "cell_type": "markdown",
   "id": "4f7f16f7-6d5b-423b-ab04-a8a02122c0a1",
   "metadata": {
    "slideshow": {
     "slide_type": "slide"
    },
    "tags": []
   },
   "source": [
    "* Resultados"
   ]
  },
  {
   "cell_type": "code",
   "execution_count": 11,
   "id": "ea1f5adb-349f-4043-88ca-c9cb692ff228",
   "metadata": {},
   "outputs": [],
   "source": [
    "montantes_finais=montantes_cdb+montantes_pre"
   ]
  },
  {
   "cell_type": "code",
   "execution_count": 12,
   "id": "0a55faff-bd1c-4c95-b7bc-b0eeea99071b",
   "metadata": {},
   "outputs": [],
   "source": [
    "pdfinal = pd.DataFrame(list(zip(investimentos,montantes_finais,retorno_semestral)), columns=['Investimentos','Montante','Retorno semestral'])"
   ]
  },
  {
   "cell_type": "code",
   "execution_count": 13,
   "id": "0168e7fd-2377-4b37-995e-4ac3db0838a6",
   "metadata": {},
   "outputs": [
    {
     "data": {
      "text/html": [
       "<div>\n",
       "<style scoped>\n",
       "    .dataframe tbody tr th:only-of-type {\n",
       "        vertical-align: middle;\n",
       "    }\n",
       "\n",
       "    .dataframe tbody tr th {\n",
       "        vertical-align: top;\n",
       "    }\n",
       "\n",
       "    .dataframe thead th {\n",
       "        text-align: right;\n",
       "    }\n",
       "</style>\n",
       "<table border=\"1\" class=\"dataframe\">\n",
       "  <thead>\n",
       "    <tr style=\"text-align: right;\">\n",
       "      <th></th>\n",
       "      <th>Investimentos</th>\n",
       "      <th>Montante</th>\n",
       "      <th>Retorno semestral</th>\n",
       "    </tr>\n",
       "  </thead>\n",
       "  <tbody>\n",
       "    <tr>\n",
       "      <th>0</th>\n",
       "      <td>bb</td>\n",
       "      <td>11543.3365</td>\n",
       "      <td>0.000</td>\n",
       "    </tr>\n",
       "    <tr>\n",
       "      <th>1</th>\n",
       "      <td>santander</td>\n",
       "      <td>11344.7547</td>\n",
       "      <td>0.000</td>\n",
       "    </tr>\n",
       "    <tr>\n",
       "      <th>2</th>\n",
       "      <td>safra</td>\n",
       "      <td>11213.4685</td>\n",
       "      <td>0.000</td>\n",
       "    </tr>\n",
       "    <tr>\n",
       "      <th>3</th>\n",
       "      <td>itau</td>\n",
       "      <td>11359.3965</td>\n",
       "      <td>0.000</td>\n",
       "    </tr>\n",
       "    <tr>\n",
       "      <th>4</th>\n",
       "      <td>prefixado_2023_1</td>\n",
       "      <td>11133.7300</td>\n",
       "      <td>0.000</td>\n",
       "    </tr>\n",
       "    <tr>\n",
       "      <th>5</th>\n",
       "      <td>prefixado_2023_2</td>\n",
       "      <td>11508.7500</td>\n",
       "      <td>0.000</td>\n",
       "    </tr>\n",
       "    <tr>\n",
       "      <th>6</th>\n",
       "      <td>prefixado_2023_cupom</td>\n",
       "      <td>11296.2500</td>\n",
       "      <td>2824.062</td>\n",
       "    </tr>\n",
       "  </tbody>\n",
       "</table>\n",
       "</div>"
      ],
      "text/plain": [
       "          Investimentos    Montante  Retorno semestral\n",
       "0                    bb  11543.3365              0.000\n",
       "1             santander  11344.7547              0.000\n",
       "2                 safra  11213.4685              0.000\n",
       "3                  itau  11359.3965              0.000\n",
       "4      prefixado_2023_1  11133.7300              0.000\n",
       "5      prefixado_2023_2  11508.7500              0.000\n",
       "6  prefixado_2023_cupom  11296.2500           2824.062"
      ]
     },
     "execution_count": 13,
     "metadata": {},
     "output_type": "execute_result"
    }
   ],
   "source": [
    "pdfinal\n"
   ]
  },
  {
   "cell_type": "code",
   "execution_count": 14,
   "id": "1d6a3869-52d6-4b9a-bd44-305ddb237acc",
   "metadata": {},
   "outputs": [],
   "source": [
    "lucros_fim=[]\n",
    "for y in montantes_finais:\n",
    "    lucros_fim.append(y-10000)\n",
    "anos=[2021,2022,2023]    "
   ]
  },
  {
   "cell_type": "code",
   "execution_count": 15,
   "id": "d58cc2f2-c3b1-4781-a267-f1c2d65dfd79",
   "metadata": {
    "slideshow": {
     "slide_type": "slide"
    },
    "tags": []
   },
   "outputs": [
    {
     "data": {
      "image/png": "[encoded data removed]",
      "text/plain": [
       "<Figure size 576x576 with 1 Axes>"
      ]
     },
     "metadata": {
      "needs_background": "light"
     },
     "output_type": "display_data"
    }
   ],
   "source": [
    "fig, ax = plt.subplots(figsize=(8, 8))\n",
    "ax.barh(investimentos,lucros_fim)\n",
    "labels = ax.get_xticklabels()\n",
    "plt.setp(labels, rotation=45, horizontalalignment='right')\n",
    "ax.axvline(max(lucros_fim), ls='--', color='g')\n",
    "ax.set_title('Lucro')\n",
    "plt.show()"
   ]
  }
 ],
 "metadata": {
  "kernelspec": {
   "display_name": "Python 3 (ipykernel)",
   "language": "python",
   "name": "python3"
  },
  "language_info": {
   "codemirror_mode": {
    "name": "ipython",
    "version": 3
   },
   "file_extension": ".py",
   "mimetype": "text/x-python",
   "name": "python",
   "nbconvert_exporter": "python",
   "pygments_lexer": "ipython3",
   "version": "3.9.7"
  }
 },
 "nbformat": 4,
 "nbformat_minor": 5
}
